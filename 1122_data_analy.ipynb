{
 "cells": [
  {
   "cell_type": "code",
   "execution_count": 28,
   "metadata": {},
   "outputs": [],
   "source": [
    "import pandas as pd\n",
    "import os"
   ]
  },
  {
   "cell_type": "code",
   "execution_count": 29,
   "metadata": {},
   "outputs": [],
   "source": [
    "grounp_n = int(len(os.listdir('./raw_signal/'))/3)"
   ]
  },
  {
   "cell_type": "code",
   "execution_count": 30,
   "metadata": {},
   "outputs": [],
   "source": [
    "x = [pd.read_csv(f'./raw_signal/{i+1}_x.csv',index_col=0) for i in range(grounp_n)]\n",
    "y = [pd.read_csv(f'./raw_signal/{i+1}_x.csv',index_col=0) for i in range(grounp_n)]\n",
    "z = [pd.read_csv(f'./raw_signal/{i+1}_x.csv',index_col=0) for i in range(grounp_n)]\n",
    "x = pd.concat(x,axis=0)\n",
    "y = pd.concat(y,axis=0)\n",
    "z = pd.concat(z,axis=0)\n",
    "for df,n in zip([x,y,z],['x','y','z']):\n",
    "    df.to_csv(f'./x_y_z/{n}.csv')\n"
   ]
  },
  {
   "cell_type": "markdown",
   "metadata": {},
   "source": [
    "### data 불러오기"
   ]
  },
  {
   "cell_type": "code",
   "execution_count": 31,
   "metadata": {},
   "outputs": [],
   "source": [
    "x= pd.read_csv(f'./x_y_z/x.csv')\n",
    "y= pd.read_csv(f'./x_y_z/x.csv')\n",
    "z= pd.read_csv(f'./x_y_z/x.csv')\n",
    "### tool_62, tool_66\n",
    "tool_62  = pd.read_csv('tool_62.csv')['enddatetime']\n",
    "tool_66  = pd.read_csv('tool_66.csv')['enddatetime']"
   ]
  },
  {
   "cell_type": "markdown",
   "metadata": {},
   "source": [
    "### 데이터 표본별로 분리하기"
   ]
  },
  {
   "cell_type": "code",
   "execution_count": null,
   "metadata": {},
   "outputs": [],
   "source": [
    "tool_62_list = []"
   ]
  },
  {
   "cell_type": "markdown",
   "metadata": {},
   "source": [
    "### 구간별로 분리하기"
   ]
  },
  {
   "cell_type": "markdown",
   "metadata": {},
   "source": [
    "### 표분 묶어서 분류"
   ]
  },
  {
   "cell_type": "markdown",
   "metadata": {},
   "source": []
  }
 ],
 "metadata": {
  "kernelspec": {
   "display_name": "python11",
   "language": "python",
   "name": "python3"
  },
  "language_info": {
   "codemirror_mode": {
    "name": "ipython",
    "version": 3
   },
   "file_extension": ".py",
   "mimetype": "text/x-python",
   "name": "python",
   "nbconvert_exporter": "python",
   "pygments_lexer": "ipython3",
   "version": "3.11.4"
  }
 },
 "nbformat": 4,
 "nbformat_minor": 2
}

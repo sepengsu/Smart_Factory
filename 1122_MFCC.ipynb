{
 "cells": [
  {
   "cell_type": "code",
   "execution_count": 1,
   "metadata": {},
   "outputs": [],
   "source": [
    "import pandas as pd\n",
    "import numpy as np\n",
    "import os, re\n",
    "from datetime import datetime\n",
    "import librosa\n",
    "import gc"
   ]
  },
  {
   "cell_type": "code",
   "execution_count": 2,
   "metadata": {},
   "outputs": [],
   "source": [
    "def extract_number(filename):\n",
    "    numbers = re.findall(r'\\d+', filename)\n",
    "    return [int(num) for num in numbers]\n",
    "from collections import defaultdict\n",
    "\n",
    "def split_files_by_first_two_elements(file_list):\n",
    "    split_files = defaultdict(list)\n",
    "    for file in file_list:\n",
    "        parts = file.split('_')\n",
    "        date_obj = datetime.strptime(parts[0], '%Y%m%d')\n",
    "        if date_obj > datetime.strptime('20230902','%Y%m%d') or  date_obj < datetime.strptime('20230823', '%Y%m%d'):\n",
    "            continue\n",
    "        if len(parts) >= 2:\n",
    "            key = f\"{parts[0]}_{parts[1]}_{parts[2]}\"  # 첫 번째와 두 번째 요소를 결합\n",
    "            split_files[key].append(file)\n",
    "    return split_files"
   ]
  },
  {
   "cell_type": "code",
   "execution_count": 3,
   "metadata": {},
   "outputs": [],
   "source": [
    "# 데이터프레임을 이 key별로 합치기\n",
    "def spliting(dataframe:pd.DataFrame):\n",
    "    \"\"\"\n",
    "    데이터프레임에서 마지막 부분을 떼어내는 과정 \n",
    "    \"\"\"\n",
    "    Times = dataframe['Time'].dt.floor('S').value_counts()\n",
    "    Times = Times.sort_index(ascending=False).index[0]\n",
    "    Last = dataframe[dataframe['Time'].dt.floor('S')==pd.Timestamp(Times)]\n",
    "    if len(Last) < 100*2:\n",
    "        Last = pd.DataFrame()\n",
    "    return dataframe, Last"
   ]
  },
  {
   "cell_type": "code",
   "execution_count": 4,
   "metadata": {},
   "outputs": [],
   "source": [
    "def concating_first(key:str,List:list):\n",
    "    '''\n",
    "    데이터프레임을 하나도 합치는 코드\n",
    "    첫 시작할때하는 코드 \n",
    "    '''\n",
    "    dirs = r'D:\\Acceleration'\n",
    "    dataframe = pd.DataFrame()\n",
    "    for name in List:\n",
    "        data = pd.read_csv(os.path.join(dirs,name),skiprows=9) if 'csv' in name else pd.DataFrame()\n",
    "        dataframe = pd.concat([dataframe,data],axis=0)\n",
    "        del data\n",
    "        gc.collect()\n",
    "    # 다 했으니 마지막 초 부분은 split하기 \n",
    "    dataframe['Time'] = pd.to_datetime(dataframe['Time'])\n",
    "    dataframe, splited = spliting(dataframe) \n",
    "    return dataframe, splited\n",
    "\n",
    "def concating(key:str,List:list,First:pd.DataFrame):\n",
    "    '''\n",
    "    데이터프레임을 하나도 합치는 코드\n",
    "    그 이후 코드 \n",
    "    '''\n",
    "    dirs = r'D:\\Acceleration'\n",
    "    dataframe = First\n",
    "    for name in List:\n",
    "        data = pd.read_csv(os.path.join(dirs,name),skiprows=9) if 'csv' in name else pd.DataFrame()\n",
    "        dataframe = pd.concat([dataframe,data],axis=0)\n",
    "        del data\n",
    "        gc.collect()\n",
    "    # 다 했으니 마지막 초 부분은 split하기 \n",
    "    dataframe['Time'] = pd.to_datetime(dataframe['Time'])\n",
    "    dataframe, splited = spliting(dataframe) \n",
    "    return dataframe, splited\n",
    "\n",
    "def concating_last(key:str,List:list,First:pd.DataFrame):\n",
    "    '''\n",
    "    데이터프레임을 하나도 합치는 코드\n",
    "    마지막 코드 \n",
    "    '''\n",
    "    dirs = r'D:\\Acceleration'\n",
    "    dataframe = First\n",
    "    for name in List:\n",
    "        data = pd.read_csv(os.path.join(dirs,name),skiprows=9) if 'csv' in name else pd.DataFrame()\n",
    "        dataframe = pd.concat([dataframe,data],axis=0)\n",
    "        \n",
    "    # 다 했으니 마지막 초 부분은 버리기\n",
    "    dataframe['Time'] = pd.to_datetime(dataframe['Time'])\n",
    "    dataframe, splited = spliting(dataframe)\n",
    "    return dataframe\n",
    "\n"
   ]
  },
  {
   "cell_type": "code",
   "execution_count": 5,
   "metadata": {},
   "outputs": [],
   "source": [
    "def adjust_data_length_per_time(df, target_length=10000):\n",
    "    \"\"\"\n",
    "    데이터프레임을 'Time'으로 그룹화하고, 각 그룹의 데이터 길이를 target_length에 맞춥니다.\n",
    "\n",
    "    Parameters:\n",
    "    df (pd.DataFrame): 원본 데이터프레임\n",
    "    target_length (int): 각 그룹의 타겟 데이터 길이 (기본값: 10000)\n",
    "\n",
    "    Returns:\n",
    "    pd.DataFrame: 조정된 데이터 길이를 갖는 새로운 데이터프레임, 'Time' 열 포함\n",
    "    \"\"\"\n",
    "    adjusted_data = []\n",
    "\n",
    "    # 'Time' 열을 초 단위로 내림 처리\n",
    "    df['Time'] = pd.to_datetime(df['Time']).dt.floor('S')\n",
    "    for time, group in df.groupby('Time'):\n",
    "        # 데이터 길이 조정\n",
    "        length = len(group)\n",
    "        if length < target_length:\n",
    "            # 데이터가 부족한 경우 0으로 채움\n",
    "            fill_data = pd.DataFrame(np.zeros((target_length - length, 3),dtype=np.float64), columns=['x', 'y', 'z'])\n",
    "            fill_data['Time'] = time\n",
    "            group = pd.concat([group, fill_data], ignore_index=True)\n",
    "        elif length > target_length:\n",
    "            # 데이터가 너무 많은 경우 잘라냄\n",
    "            group = group.iloc[:target_length]\n",
    "\n",
    "        adjusted_data.append(group)\n",
    "\n",
    "    # 모든 조정된 데이터를 하나의 데이터프레임으로 합침\n",
    "    return pd.concat(adjusted_data, ignore_index=True)"
   ]
  },
  {
   "cell_type": "code",
   "execution_count": 6,
   "metadata": {},
   "outputs": [],
   "source": [
    "def calculate_mfcc_per_second(data, sr=10000, n_mfcc=20, n_fft=2048, hop_length=1024):\n",
    "    \"\"\"\n",
    "    1초 간격의 오디오 데이터에 대한 MFCC를 계산합니다.\n",
    "\n",
    "    Parameters:\n",
    "    data (numpy.ndarray): 오디오 데이터\n",
    "    sr (int): 샘플링 빈도\n",
    "    n_mfcc (int): 추출할 MFCC 계수의 수\n",
    "    n_fft (int): FFT 윈도우의 크기\n",
    "    hop_length (int): 프레임 간의 이동 스텝 크기\n",
    "\n",
    "    Returns:\n",
    "    pd.DataFrame: 각 1초 간격의 MFCC 계산 결과\n",
    "    \"\"\"\n",
    "    mfccs_results = []\n",
    "\n",
    "    # 데이터를 1초 간격으로 분할\n",
    "    for i in range(0, len(data), sr):\n",
    "        one_second_data = data[i:i+sr]\n",
    "        if len(one_second_data) < sr:\n",
    "            break\n",
    "        mfccs = librosa.feature.mfcc(y=one_second_data, sr=sr, n_mfcc=n_mfcc, n_fft=n_fft, hop_length=hop_length)\n",
    "        mfccs_mean = np.mean(mfccs, axis=1)  # MFCC의 평균을 계산\n",
    "        mfccs_results.append(mfccs_mean)\n",
    "    return pd.DataFrame(mfccs_results)\n",
    "\n",
    "def mfcc_all(df:pd.DataFrame):\n",
    "    Times = df['Time'].unique()\n",
    "    mfcc_list = []\n",
    "    for column in ['x','y','z']:\n",
    "        temp = calculate_mfcc_per_second(np.array(df[column]),sr=10000)\n",
    "        temp.index = Times\n",
    "        mfcc_list.append(temp)\n",
    "    return mfcc_list"
   ]
  },
  {
   "cell_type": "markdown",
   "metadata": {},
   "source": [
    "### stft 및 저장"
   ]
  },
  {
   "cell_type": "code",
   "execution_count": 7,
   "metadata": {},
   "outputs": [
    {
     "name": "stdout",
     "output_type": "stream",
     "text": [
      "128\n"
     ]
    }
   ],
   "source": [
    "# 파일 목록을 숫자에 따라 정렬\n",
    "files = os.listdir(r'D:\\Acceleration')\n",
    "files.sort(key=extract_number)\n",
    "groups = split_files_by_first_two_elements(files)\n",
    "print(len(groups))"
   ]
  },
  {
   "cell_type": "code",
   "execution_count": 8,
   "metadata": {},
   "outputs": [
    {
     "data": {
      "text/plain": [
       "Key            20230823_010900_866\n",
       "List Length                     38\n",
       "dtype: object"
      ]
     },
     "execution_count": 8,
     "metadata": {},
     "output_type": "execute_result"
    }
   ],
   "source": [
    "lengths = {key: len(value) for key, value in groups.items()}\n",
    "\n",
    "# 데이터프레임으로 변환\n",
    "pd.DataFrame(list(lengths.items()), columns=['Key', 'List Length']).min()"
   ]
  },
  {
   "cell_type": "code",
   "execution_count": 9,
   "metadata": {},
   "outputs": [
    {
     "data": {
      "text/plain": [
       "Item     20230904_132518_259_9.csv\n",
       "Count                            1\n",
       "dtype: object"
      ]
     },
     "execution_count": 9,
     "metadata": {},
     "output_type": "execute_result"
    }
   ],
   "source": [
    "# 리스트에서 중복된 값의 개수를 계산\n",
    "counts = pd.Series(files).value_counts()\n",
    "\n",
    "# 데이터프레임으로 변환\n",
    "pd.DataFrame({'Item': counts.index, 'Count': counts.values}).max()"
   ]
  },
  {
   "cell_type": "code",
   "execution_count": 10,
   "metadata": {},
   "outputs": [
    {
     "name": "stdout",
     "output_type": "stream",
     "text": [
      "1 2 3 4 5 6 7 8 9 10 \n",
      "11 12 13 14 15 16 17 18 \n",
      "19번째 그룹 remain load 걸린시간: 0:01:59.913833\n",
      "20번째 그룹71개 데이터 load 완료 걸린시간: 0:02:20.703660\n",
      "20번째 그룹 End 걸린시간: 0:01:42.924644\n",
      "\n",
      "21번째 그룹71개 데이터 load 완료 걸린시간: 0:02:10.424588\n",
      "21번째 그룹 End 걸린시간: 0:01:45.282701\n",
      "\n"
     ]
    },
    {
     "ename": "KeyboardInterrupt",
     "evalue": "",
     "output_type": "error",
     "traceback": [
      "\u001b[1;31m---------------------------------------------------------------------------\u001b[0m",
      "\u001b[1;31mKeyboardInterrupt\u001b[0m                         Traceback (most recent call last)",
      "\u001b[1;32mc:\\Users\\na062\\Desktop\\3-2\\smartfactory\\1122_MFCC.ipynb 셀 11\u001b[0m line \u001b[0;36m2\n\u001b[0;32m     <a href='vscode-notebook-cell:/c%3A/Users/na062/Desktop/3-2/smartfactory/1122_MFCC.ipynb#X13sZmlsZQ%3D%3D?line=18'>19</a>\u001b[0m     dataframe \u001b[39m=\u001b[39m concating_last(key,List, remain)\n\u001b[0;32m     <a href='vscode-notebook-cell:/c%3A/Users/na062/Desktop/3-2/smartfactory/1122_MFCC.ipynb#X13sZmlsZQ%3D%3D?line=19'>20</a>\u001b[0m \u001b[39melse\u001b[39;00m:\n\u001b[1;32m---> <a href='vscode-notebook-cell:/c%3A/Users/na062/Desktop/3-2/smartfactory/1122_MFCC.ipynb#X13sZmlsZQ%3D%3D?line=20'>21</a>\u001b[0m     dataframe,remain \u001b[39m=\u001b[39m concating(key,List,remain)\n\u001b[0;32m     <a href='vscode-notebook-cell:/c%3A/Users/na062/Desktop/3-2/smartfactory/1122_MFCC.ipynb#X13sZmlsZQ%3D%3D?line=21'>22</a>\u001b[0m \u001b[39mprint\u001b[39m(\u001b[39mf\u001b[39m\u001b[39m'\u001b[39m\u001b[39m{\u001b[39;00mi\u001b[39m+\u001b[39m\u001b[39m1\u001b[39m\u001b[39m}\u001b[39;00m\u001b[39m번째 그룹\u001b[39m\u001b[39m{\u001b[39;00m\u001b[39mlen\u001b[39m(List)\u001b[39m}\u001b[39;00m\u001b[39m개 데이터 load 완료\u001b[39m\u001b[39m'\u001b[39m,\u001b[39mf\u001b[39m\u001b[39m'\u001b[39m\u001b[39m걸린시간: \u001b[39m\u001b[39m{\u001b[39;00mdatetime\u001b[39m.\u001b[39mnow()\u001b[39m-\u001b[39mtimes\u001b[39m}\u001b[39;00m\u001b[39m'\u001b[39m)\n\u001b[0;32m     <a href='vscode-notebook-cell:/c%3A/Users/na062/Desktop/3-2/smartfactory/1122_MFCC.ipynb#X13sZmlsZQ%3D%3D?line=23'>24</a>\u001b[0m \u001b[39mif\u001b[39;00m \u001b[39mlen\u001b[39m(remain)\u001b[39m>\u001b[39m\u001b[39m20000\u001b[39m:\n",
      "\u001b[1;32mc:\\Users\\na062\\Desktop\\3-2\\smartfactory\\1122_MFCC.ipynb 셀 11\u001b[0m line \u001b[0;36m2\n\u001b[0;32m     <a href='vscode-notebook-cell:/c%3A/Users/na062/Desktop/3-2/smartfactory/1122_MFCC.ipynb#X13sZmlsZQ%3D%3D?line=26'>27</a>\u001b[0m     dataframe \u001b[39m=\u001b[39m pd\u001b[39m.\u001b[39mconcat([dataframe,data],axis\u001b[39m=\u001b[39m\u001b[39m0\u001b[39m)\n\u001b[0;32m     <a href='vscode-notebook-cell:/c%3A/Users/na062/Desktop/3-2/smartfactory/1122_MFCC.ipynb#X13sZmlsZQ%3D%3D?line=27'>28</a>\u001b[0m     \u001b[39mdel\u001b[39;00m data\n\u001b[1;32m---> <a href='vscode-notebook-cell:/c%3A/Users/na062/Desktop/3-2/smartfactory/1122_MFCC.ipynb#X13sZmlsZQ%3D%3D?line=28'>29</a>\u001b[0m     gc\u001b[39m.\u001b[39mcollect()\n\u001b[0;32m     <a href='vscode-notebook-cell:/c%3A/Users/na062/Desktop/3-2/smartfactory/1122_MFCC.ipynb#X13sZmlsZQ%3D%3D?line=29'>30</a>\u001b[0m \u001b[39m# 다 했으니 마지막 초 부분은 split하기 \u001b[39;00m\n\u001b[0;32m     <a href='vscode-notebook-cell:/c%3A/Users/na062/Desktop/3-2/smartfactory/1122_MFCC.ipynb#X13sZmlsZQ%3D%3D?line=30'>31</a>\u001b[0m dataframe[\u001b[39m'\u001b[39m\u001b[39mTime\u001b[39m\u001b[39m'\u001b[39m] \u001b[39m=\u001b[39m pd\u001b[39m.\u001b[39mto_datetime(dataframe[\u001b[39m'\u001b[39m\u001b[39mTime\u001b[39m\u001b[39m'\u001b[39m])\n",
      "\u001b[1;31mKeyboardInterrupt\u001b[0m: "
     ]
    }
   ],
   "source": [
    "for i, (key, List) in enumerate(groups.items()):\n",
    "    \n",
    "    con = 21\n",
    "    if i+1<con:\n",
    "        print(i+1,end=' ')\n",
    "        if (i+1)%10 ==0:\n",
    "            print()\n",
    "        continue\n",
    "\n",
    "    times = datetime.now()\n",
    "    # 데이터 프레임 합치기\n",
    "    if i+1==con: # 39번째는 마지막 reamin만 가져오기 \n",
    "        dataframe, remain = concating_first(key,List)\n",
    "        print()\n",
    "        print(f'{con}번째 그룹 remain load',f'걸린시간: {datetime.now()-times}')\n",
    "        continue\n",
    "\n",
    "    elif i==len(groups)-1:\n",
    "        dataframe = concating_last(key,List, remain)\n",
    "    else:\n",
    "        dataframe,remain = concating(key,List,remain)\n",
    "    print(f'{i+1}번째 그룹{len(List)}개 데이터 load 완료',f'걸린시간: {datetime.now()-times}')\n",
    "\n",
    "    if len(remain)>20000:\n",
    "        raise NotImplementedError\n",
    "    # 데이터 복구 및 설정\n",
    "    times = datetime.now()\n",
    "    dataframe_re = adjust_data_length_per_time(dataframe,target_length=10000)\n",
    "    results = mfcc_all(dataframe_re) #초마다 하나씩 MFCC 진행 \n",
    "    \n",
    "    #저장\n",
    "    for j,column in enumerate(['x','y','z']): \n",
    "        name = f'{i+1}_{column}.csv'\n",
    "        path = os.path.join('./raw_signal_new',name)\n",
    "        results[j].to_csv(path)\n",
    "    print(f'{i+1}번째 그룹 End', f'걸린시간: {datetime.now()-times}')\n",
    "    del dataframe\n",
    "    del results\n",
    "    print()"
   ]
  }
 ],
 "metadata": {
  "kernelspec": {
   "display_name": "python11",
   "language": "python",
   "name": "python3"
  },
  "language_info": {
   "codemirror_mode": {
    "name": "ipython",
    "version": 3
   },
   "file_extension": ".py",
   "mimetype": "text/x-python",
   "name": "python",
   "nbconvert_exporter": "python",
   "pygments_lexer": "ipython3",
   "version": "3.11.4"
  }
 },
 "nbformat": 4,
 "nbformat_minor": 2
}

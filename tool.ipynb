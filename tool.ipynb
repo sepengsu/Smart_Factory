{
 "cells": [
  {
   "cell_type": "code",
   "execution_count": 1,
   "metadata": {},
   "outputs": [],
   "source": [
    "import pandas as pd"
   ]
  },
  {
   "cell_type": "markdown",
   "metadata": {},
   "source": [
    "### 1. "
   ]
  },
  {
   "cell_type": "code",
   "execution_count": 1,
   "metadata": {},
   "outputs": [
    {
     "ename": "NameError",
     "evalue": "name 'pd' is not defined",
     "output_type": "error",
     "traceback": [
      "\u001b[1;31m---------------------------------------------------------------------------\u001b[0m",
      "\u001b[1;31mNameError\u001b[0m                                 Traceback (most recent call last)",
      "\u001b[1;32mc:\\Users\\na062\\Desktop\\3-2\\smartfactory\\tool.ipynb 셀 3\u001b[0m line \u001b[0;36m1\n\u001b[1;32m----> <a href='vscode-notebook-cell:/c%3A/Users/na062/Desktop/3-2/smartfactory/tool.ipynb#W1sZmlsZQ%3D%3D?line=0'>1</a>\u001b[0m tool \u001b[39m=\u001b[39m pd\u001b[39m.\u001b[39mread_excel(\u001b[39m'\u001b[39m\u001b[39m./신스윈툴교체.xlsx\u001b[39m\u001b[39m'\u001b[39m)\n",
      "\u001b[1;31mNameError\u001b[0m: name 'pd' is not defined"
     ]
    }
   ],
   "source": [
    "tool = pd.read_excel('./신스윈툴교체.xlsx')"
   ]
  },
  {
   "cell_type": "code",
   "execution_count": 19,
   "metadata": {},
   "outputs": [
    {
     "data": {
      "text/plain": [
       "primarykey        677\n",
       "설비코드                1\n",
       "정삭                  1\n",
       "툴코드                 2\n",
       "개수                203\n",
       "inputdatetime     677\n",
       "enddatetime       677\n",
       "updatedatetime    677\n",
       "mix                 2\n",
       "제품코드               21\n",
       "규격                389\n",
       "dtype: int64"
      ]
     },
     "execution_count": 19,
     "metadata": {},
     "output_type": "execute_result"
    }
   ],
   "source": [
    "tool.nunique()"
   ]
  },
  {
   "cell_type": "code",
   "execution_count": 20,
   "metadata": {},
   "outputs": [],
   "source": [
    "tool_select = tool[(tool['enddatetime']<=pd.Timestamp('2023-09-04 15:28:05.331000')) &(tool['enddatetime']>=pd.Timestamp('2023-08-22 15:26:18.991000'))]"
   ]
  },
  {
   "cell_type": "code",
   "execution_count": 26,
   "metadata": {},
   "outputs": [
    {
     "data": {
      "text/html": [
       "<div>\n",
       "<style scoped>\n",
       "    .dataframe tbody tr th:only-of-type {\n",
       "        vertical-align: middle;\n",
       "    }\n",
       "\n",
       "    .dataframe tbody tr th {\n",
       "        vertical-align: top;\n",
       "    }\n",
       "\n",
       "    .dataframe thead th {\n",
       "        text-align: right;\n",
       "    }\n",
       "</style>\n",
       "<table border=\"1\" class=\"dataframe\">\n",
       "  <thead>\n",
       "    <tr style=\"text-align: right;\">\n",
       "      <th></th>\n",
       "      <th>primarykey</th>\n",
       "      <th>설비코드</th>\n",
       "      <th>정삭</th>\n",
       "      <th>툴코드</th>\n",
       "      <th>개수</th>\n",
       "      <th>inputdatetime</th>\n",
       "      <th>enddatetime</th>\n",
       "      <th>updatedatetime</th>\n",
       "      <th>mix</th>\n",
       "      <th>제품코드</th>\n",
       "      <th>규격</th>\n",
       "    </tr>\n",
       "  </thead>\n",
       "  <tbody>\n",
       "    <tr>\n",
       "      <th>0</th>\n",
       "      <td>78</td>\n",
       "      <td>1</td>\n",
       "      <td>1</td>\n",
       "      <td>1</td>\n",
       "      <td>55</td>\n",
       "      <td>78</td>\n",
       "      <td>78</td>\n",
       "      <td>78</td>\n",
       "      <td>2</td>\n",
       "      <td>3</td>\n",
       "      <td>57</td>\n",
       "    </tr>\n",
       "  </tbody>\n",
       "</table>\n",
       "</div>"
      ],
      "text/plain": [
       "   primarykey  설비코드  정삭  툴코드  개수  inputdatetime  enddatetime  updatedatetime  \\\n",
       "0          78     1   1    1  55             78           78              78   \n",
       "\n",
       "   mix  제품코드  규격  \n",
       "0    2     3  57  "
      ]
     },
     "execution_count": 26,
     "metadata": {},
     "output_type": "execute_result"
    }
   ],
   "source": [
    "pd.DataFrame(tool_select.nunique()).transpose()"
   ]
  },
  {
   "cell_type": "code",
   "execution_count": 21,
   "metadata": {},
   "outputs": [],
   "source": [
    "tool_select.to_csv('tool.csv',index=False)"
   ]
  },
  {
   "cell_type": "code",
   "execution_count": 29,
   "metadata": {},
   "outputs": [
    {
     "name": "stdout",
     "output_type": "stream",
     "text": [
      "개수\n",
      "100    4\n",
      "55     3\n",
      "63     3\n",
      "45     3\n",
      "23     2\n",
      "37     2\n",
      "76     2\n",
      "46     2\n",
      "54     2\n",
      "33     2\n",
      "44     2\n",
      "43     2\n",
      "52     2\n",
      "92     2\n",
      "94     2\n",
      "99     2\n",
      "81     2\n",
      "22     2\n",
      "17     1\n",
      "66     1\n",
      "96     1\n",
      "36     1\n",
      "25     1\n",
      "32     1\n",
      "50     1\n",
      "41     1\n",
      "62     1\n",
      "83     1\n",
      "51     1\n",
      "61     1\n",
      "106    1\n",
      "49     1\n",
      "21     1\n",
      "95     1\n",
      "75     1\n",
      "101    1\n",
      "60     1\n",
      "102    1\n",
      "78     1\n",
      "109    1\n",
      "93     1\n",
      "89     1\n",
      "74     1\n",
      "105    1\n",
      "88     1\n",
      "71     1\n",
      "98     1\n",
      "90     1\n",
      "65     1\n",
      "38     1\n",
      "148    1\n",
      "161    1\n",
      "97     1\n",
      "157    1\n",
      "59     1\n",
      "Name: count, dtype: int64\n",
      "\n",
      "mix\n",
      "N    77\n",
      "Y     1\n",
      "Name: count, dtype: int64\n",
      "\n",
      "제품코드\n",
      "FSCN-0062              45\n",
      "FSCN-0066              32\n",
      "FSCN-0062,FSCN-0066     1\n",
      "Name: count, dtype: int64\n",
      "\n",
      "규격\n",
      "(APH025[100 EA])                 4\n",
      "(APH031[45 EA])                  3\n",
      "(APH031[63 EA])                  3\n",
      "(APH031[55 EA])                  3\n",
      "(APH025[81 EA])                  2\n",
      "(APH031[37 EA])                  2\n",
      "(APH031[22 EA])                  2\n",
      "(APH025[76 EA])                  2\n",
      "(APH025[99 EA])                  2\n",
      "(APH025[94 EA])                  2\n",
      "(APH031[46 EA])                  2\n",
      "(APH031[54 EA])                  2\n",
      "(APH031[33 EA])                  2\n",
      "(APH031[44 EA])                  2\n",
      "(APH031[43 EA])                  2\n",
      "(APH031[23 EA])                  2\n",
      "(APH031[66 EA])                  1\n",
      "(APH031[49 EA])                  1\n",
      "(APH031[96 EA])                  1\n",
      "(APH031[32 EA])                  1\n",
      "(APH031[17 EA])                  1\n",
      "(APH031[61 EA])                  1\n",
      "(APH031[21 EA])                  1\n",
      "(APH031[41 EA])                  1\n",
      "(APH031[36 EA])                  1\n",
      "(APH031[25 EA])                  1\n",
      "(APH031[50 EA])                  1\n",
      "(APH031[62 EA])                  1\n",
      "(APH031[83 EA])                  1\n",
      "(APH031[51 EA])                  1\n",
      "(APH031[106 EA])                 1\n",
      "(APH031[59 EA])                  1\n",
      "(APH031[52 EA])                  1\n",
      "(APH025[95 EA])                  1\n",
      "(APH031[75 EA])                  1\n",
      "(APH025[88 EA])                  1\n",
      "(APH025[60 EA])                  1\n",
      "(APH025[102 EA])                 1\n",
      "(APH025[78 EA])                  1\n",
      "(APH025[109 EA])                 1\n",
      "(APH025[93 EA])                  1\n",
      "(APH025[89 EA])                  1\n",
      "(APH025[74 EA])                  1\n",
      "(APH025[105 EA])                 1\n",
      "(APH025[101 EA])                 1\n",
      "(APH025[92 EA])                  1\n",
      "(APH031[71 EA])                  1\n",
      "(APH025[98 EA])                  1\n",
      "(APH025[90 EA])                  1\n",
      "(APH025[65 EA])                  1\n",
      "(APH025[38 EA])                  1\n",
      "(APH025[52 EA])                  1\n",
      "(APH025[148 EA])                 1\n",
      "(APH025[161 EA])                 1\n",
      "(APH025[97 EA])                  1\n",
      "(APH031[0 EA],APH025[157 EA])    1\n",
      "(APH031[92 EA])                  1\n",
      "Name: count, dtype: int64\n",
      "\n"
     ]
    }
   ],
   "source": [
    "for column in ['개수','mix','제품코드','규격']:\n",
    "    print(tool_select[column].value_counts())\n",
    "    print()"
   ]
  },
  {
   "cell_type": "code",
   "execution_count": 31,
   "metadata": {},
   "outputs": [
    {
     "data": {
      "text/html": [
       "<div>\n",
       "<style scoped>\n",
       "    .dataframe tbody tr th:only-of-type {\n",
       "        vertical-align: middle;\n",
       "    }\n",
       "\n",
       "    .dataframe tbody tr th {\n",
       "        vertical-align: top;\n",
       "    }\n",
       "\n",
       "    .dataframe thead th {\n",
       "        text-align: right;\n",
       "    }\n",
       "</style>\n",
       "<table border=\"1\" class=\"dataframe\">\n",
       "  <thead>\n",
       "    <tr style=\"text-align: right;\">\n",
       "      <th></th>\n",
       "      <th>primarykey</th>\n",
       "      <th>설비코드</th>\n",
       "      <th>정삭</th>\n",
       "      <th>툴코드</th>\n",
       "      <th>개수</th>\n",
       "      <th>inputdatetime</th>\n",
       "      <th>enddatetime</th>\n",
       "      <th>updatedatetime</th>\n",
       "      <th>mix</th>\n",
       "      <th>제품코드</th>\n",
       "      <th>규격</th>\n",
       "    </tr>\n",
       "  </thead>\n",
       "  <tbody>\n",
       "    <tr>\n",
       "      <th>45</th>\n",
       "      <td>2260</td>\n",
       "      <td>CNC01</td>\n",
       "      <td>T03</td>\n",
       "      <td>CT202</td>\n",
       "      <td>157</td>\n",
       "      <td>2023-08-28 15:42:15.037</td>\n",
       "      <td>2023-08-28 15:42:15.037</td>\n",
       "      <td>2023-08-28 15:42:15.037</td>\n",
       "      <td>Y</td>\n",
       "      <td>FSCN-0062,FSCN-0066</td>\n",
       "      <td>(APH031[0 EA],APH025[157 EA])</td>\n",
       "    </tr>\n",
       "  </tbody>\n",
       "</table>\n",
       "</div>"
      ],
      "text/plain": [
       "    primarykey   설비코드   정삭    툴코드   개수           inputdatetime  \\\n",
       "45        2260  CNC01  T03  CT202  157 2023-08-28 15:42:15.037   \n",
       "\n",
       "               enddatetime          updatedatetime mix                 제품코드  \\\n",
       "45 2023-08-28 15:42:15.037 2023-08-28 15:42:15.037   Y  FSCN-0062,FSCN-0066   \n",
       "\n",
       "                               규격  \n",
       "45  (APH031[0 EA],APH025[157 EA])  "
      ]
     },
     "execution_count": 31,
     "metadata": {},
     "output_type": "execute_result"
    }
   ],
   "source": [
    "tool_select[tool_select['mix']=='Y']"
   ]
  },
  {
   "cell_type": "markdown",
   "metadata": {},
   "source": [
    "### 2. "
   ]
  },
  {
   "cell_type": "code",
   "execution_count": 2,
   "metadata": {},
   "outputs": [],
   "source": [
    "tool_62  = pd.read_csv('tool_62.csv',index_col=0)\n",
    "tool_66  = pd.read_csv('tool_66.csv',index_col=0)"
   ]
  },
  {
   "cell_type": "code",
   "execution_count": 6,
   "metadata": {},
   "outputs": [],
   "source": [
    "import numpy as np\n",
    "def make_start_end(df:pd.DataFrame):\n",
    "    dataframe = {}\n",
    "    start = list(df['enddatetime'].iloc[1:])\n",
    "    start.append(np.nan)\n",
    "    dataframe['start'] = start\n",
    "    dataframe['end'] = df['enddatetime']\n",
    "    dataframe = pd.DataFrame(dataframe)\n",
    "    dataframe.reset_index(drop=True,inplace=True)\n",
    "    return dataframe"
   ]
  },
  {
   "cell_type": "code",
   "execution_count": 8,
   "metadata": {},
   "outputs": [],
   "source": [
    "make_start_end(tool_62).to_csv('ch_62.csv',index=False)\n",
    "make_start_end(tool_66).to_csv('ch_66.csv',index=False)"
   ]
  },
  {
   "cell_type": "code",
   "execution_count": 2,
   "metadata": {},
   "outputs": [
    {
     "data": {
      "image/png": "[encoded data removed]",
      "text/plain": [
       "<Figure size 1000x500 with 1 Axes>"
      ]
     },
     "metadata": {},
     "output_type": "display_data"
    }
   ],
   "source": [
    "# Adjusting the simulation of the wear curve to ensure all phases connect smoothly and changing the x-axis range to 0-100\n",
    "import numpy as np\n",
    "import matplotlib.pyplot as plt\n",
    "# Create a new range of cutting times\n",
    "cutting_time = np.linspace(0, 100, 1000)  # increased the upper limit to 100\n",
    "\n",
    "# Modify the piecewise functions to adjust the wear rate to the new cutting time range\n",
    "# Initial wear phase (quadratic growth)\n",
    "initial_wear_phase = (cutting_time < 20)\n",
    "initial_wear_rate = 0.1 * (cutting_time**2 / 400)\n",
    "\n",
    "# Normal wear phase (linear growth)\n",
    "normal_wear_phase = (cutting_time >= 20) & (cutting_time < 80)\n",
    "normal_wear_rate = 0.5 + (cutting_time - 20) / 300\n",
    "\n",
    "# Severe wear phase (exponential growth)\n",
    "severe_wear_phase = (cutting_time >= 80)\n",
    "severe_wear_rate = 0.5 + (0.05 * (cutting_time - 80))**2\n",
    "\n",
    "# Combine the phases\n",
    "wear_rate = np.piecewise(cutting_time, [initial_wear_phase, normal_wear_phase, severe_wear_phase],\n",
    "                         [lambda x: 0.1 * (x**2 / 400), \n",
    "                          lambda x: 0.5 + (x - 20) / 300, \n",
    "                          lambda x: 0.5 + (0.05 * (x - 80))**2])\n",
    "\n",
    "# Determine the failure threshold\n",
    "failure_threshold = 2.5  # Hypothetical value\n",
    "\n",
    "# Find the cutting time where the wear rate first exceeds the failure threshold during severe wear\n",
    "failure_time_index = np.argmax(wear_rate >= failure_threshold)\n",
    "failure_time = cutting_time[failure_time_index]\n",
    "\n",
    "# Re-plotting the graph with new annotations\n",
    "plt.figure(figsize=(10, 5))\n",
    "plt.plot(cutting_time, wear_rate, label='Wear Rate', color='orange')\n",
    "\n",
    "# Highlighting the different wear phases with colors and renaming them\n",
    "plt.fill_between(cutting_time, wear_rate, 0, where=initial_wear_phase, color='cyan', alpha=0.3, label='Stage 1')\n",
    "plt.fill_between(cutting_time, wear_rate, 0, where=normal_wear_phase, color='lightgreen', alpha=0.3, label='Stage 2')\n",
    "plt.fill_between(cutting_time, wear_rate, 0, where=severe_wear_phase, color='salmon', alpha=0.3, label='Stage 3')\n",
    "\n",
    "# Drawing the failure threshold line\n",
    "plt.axhline(y=failure_threshold, color='blue', linestyle='--', label='Threshold')\n",
    "\n",
    "# Drawing the failure time line at the intersection with the threshold\n",
    "plt.axvline(x=failure_time, color='red', linestyle='--', label='Failure Time')\n",
    "\n",
    "# Annotating the failure time at the intersection with the threshold\n",
    "plt.text(failure_time + 2, failure_threshold + 0.1, 'Failure Time', color='red', horizontalalignment='left')\n",
    "\n",
    "# Adding titles and labels\n",
    "plt.title('Determine the Failure Threshold Based on Accelerated Failure Rate')\n",
    "plt.xlabel('Cutting Time')\n",
    "plt.ylabel('Total Wear')\n",
    "plt.xlim(0, 100)  # Set the x-axis limit to 0-100\n",
    "plt.legend()\n",
    "\n",
    "# Save the figure with the new annotations\n",
    "plt.show()"
   ]
  }
 ],
 "metadata": {
  "kernelspec": {
   "display_name": "base",
   "language": "python",
   "name": "python3"
  },
  "language_info": {
   "codemirror_mode": {
    "name": "ipython",
    "version": 3
   },
   "file_extension": ".py",
   "mimetype": "text/x-python",
   "name": "python",
   "nbconvert_exporter": "python",
   "pygments_lexer": "ipython3",
   "version": "3.11.4"
  }
 },
 "nbformat": 4,
 "nbformat_minor": 2
}

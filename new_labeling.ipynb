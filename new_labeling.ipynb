{
 "cells": [
  {
   "cell_type": "code",
   "execution_count": 43,
   "metadata": {},
   "outputs": [],
   "source": [
    "import pandas as pd\n",
    "from  tqdm import tqdm\n"
   ]
  },
  {
   "cell_type": "code",
   "execution_count": 44,
   "metadata": {},
   "outputs": [],
   "source": [
    "#label_62= pd.read_excel('./label/62_label.xlsx',index_col=0)\n",
    "label_66 =  pd.read_excel('./label/66_label.xlsx',index_col=0)"
   ]
  },
  {
   "cell_type": "code",
   "execution_count": 45,
   "metadata": {},
   "outputs": [],
   "source": [
    "search_before = 60 *20 # 교체 전 몇 분, 초 단위로 입력\n",
    "\n",
    "# 건들 X\n",
    "def labeling(df_total:pd.DataFrame, search_before:int):\n",
    "  idx = df_total[\"개수\"].notnull()\n",
    "  base_datetime = df_total[idx][\"time\"]\n",
    "  base_datetime_list = list(base_datetime)\n",
    "  df_total[\"이상치 라벨링\"] = False\n",
    "\n",
    "  for i in tqdm(base_datetime_list):\n",
    "    base_datetime = pd.to_datetime(i)\n",
    "    datetime_before = base_datetime - pd.Timedelta(seconds=search_before)\n",
    "\n",
    "    df_total[\"이상치 라벨링\"] = df_total[\"이상치 라벨링\"] | ((df_total[\"time\"] < i) & (df_total[\"time\"] >= i - pd.Timedelta(seconds=search_before)))\n",
    "    df_total[\"이상치 라벨링\"] = df_total[\"이상치 라벨링\"].astype(int)\n",
    "\n",
    "  df_total.drop(['툴코드', '개수', 'mix', '제품코드', '규격'],axis=1,inplace=True)\n",
    "  df_total.rename(columns = {'파생변수':'Derived Variable','이상치 라벨링':'label'},inplace=True)\n",
    "  df_total.rename(columns={'time':'Time'},inplace=True)\n",
    "  return df_total"
   ]
  },
  {
   "cell_type": "code",
   "execution_count": 46,
   "metadata": {},
   "outputs": [
    {
     "data": {
      "text/plain": [
       "Index(['time', 'Active_Power_W1', 'Active_Power_W2', 'Active_Power_W3',\n",
       "       'Apparent_Power_Va1', 'Apparent_Power_Va2', 'Apparent_Power_Va3',\n",
       "       'Line_Current_L1', 'Line_Current_L2', 'Line_Current_L3',\n",
       "       'Line_Voltage_V12', 'Line_Voltage_V23', 'Line_Voltage_V31', 'x', 'y',\n",
       "       'z', '툴코드', '개수', 'mix', '제품코드', '규격', '파생변수', '이상치 라벨링'],\n",
       "      dtype='object')"
      ]
     },
     "execution_count": 46,
     "metadata": {},
     "output_type": "execute_result"
    }
   ],
   "source": [
    "label_66.columns"
   ]
  },
  {
   "cell_type": "code",
   "execution_count": 47,
   "metadata": {},
   "outputs": [
    {
     "name": "stderr",
     "output_type": "stream",
     "text": [
      "100%|██████████| 29/29 [00:00<00:00, 49.64it/s]"
     ]
    },
    {
     "name": "stderr",
     "output_type": "stream",
     "text": [
      "\n"
     ]
    }
   ],
   "source": [
    "#label_62 =labeling(label_62,search_before)\n",
    "label_66 =labeling(label_66,search_before)"
   ]
  },
  {
   "cell_type": "code",
   "execution_count": 28,
   "metadata": {},
   "outputs": [],
   "source": [
    "#label_62['label'].value_counts()"
   ]
  },
  {
   "cell_type": "code",
   "execution_count": 48,
   "metadata": {},
   "outputs": [],
   "source": [
    "x = pd.read_csv('./signal_xyz/x.csv')\n",
    "x=x[['2','3','14','Time']]\n",
    "x.columns = ['x_2', 'x_3','x_14', 'Time']\n",
    "x['Time'] = pd.to_datetime(x['Time'])\n",
    "\n",
    "\n",
    "y = pd.read_csv('./signal_xyz/y.csv')\n",
    "y=y[['2','3','14','Time']]\n",
    "y.columns = ['y_2', 'y_3','y_14', 'Time']\n",
    "y['Time'] = pd.to_datetime(y['Time'])\n",
    "\n",
    "\n",
    "\n",
    "z = pd.read_csv('./signal_xyz/z.csv')\n",
    "z=z[['0','17','Time']]\n",
    "z.columns = ['z_0', 'z_17', 'Time']\n",
    "z['Time'] = pd.to_datetime(z['Time'])"
   ]
  },
  {
   "cell_type": "code",
   "execution_count": 30,
   "metadata": {},
   "outputs": [],
   "source": [
    "def merge_dataframes_on_time(df1, df2):\n",
    "    # 'Time' 열을 기준으로 두 데이터프레임을 합병\n",
    "    # how='inner'는 두 데이터프레임에 모두 존재하는 'Time' 값에 대해서만 합병을 수행\n",
    "    merged_df = pd.merge(df1, df2, on='Time', how='inner')\n",
    "    return merged_df\n"
   ]
  },
  {
   "cell_type": "code",
   "execution_count": 31,
   "metadata": {},
   "outputs": [],
   "source": [
    "#label_62= merge_dataframes_on_time(label_62,z)\n",
    "label_66= merge_dataframes_on_time(label_66,x)\n",
    "label_66= merge_dataframes_on_time(label_66,y)\n",
    "label_66= merge_dataframes_on_time(label_66,z)"
   ]
  },
  {
   "cell_type": "code",
   "execution_count": 32,
   "metadata": {},
   "outputs": [],
   "source": [
    "#label_62.to_csv('./label/new_label_62.csv',index=False)\n",
    "label_66.to_csv('./label/new_label_66.csv',index=False)"
   ]
  }
 ],
 "metadata": {
  "kernelspec": {
   "display_name": "python11",
   "language": "python",
   "name": "python3"
  },
  "language_info": {
   "codemirror_mode": {
    "name": "ipython",
    "version": 3
   },
   "file_extension": ".py",
   "mimetype": "text/x-python",
   "name": "python",
   "nbconvert_exporter": "python",
   "pygments_lexer": "ipython3",
   "version": "3.11.4"
  }
 },
 "nbformat": 4,
 "nbformat_minor": 2
}

{
 "cells": [
  {
   "cell_type": "code",
   "execution_count": 17,
   "metadata": {},
   "outputs": [],
   "source": [
    "import pandas as pd"
   ]
  },
  {
   "cell_type": "code",
   "execution_count": 24,
   "metadata": {},
   "outputs": [],
   "source": [
    "label_62 = pd.read_excel('./label/62_label.xlsx',index_col=0)\n",
    "label_62.drop(['툴코드', '개수', 'mix', '제품코드', '규격'],axis=1,inplace=True)\n",
    "label_62.rename(columns = {'파생변수':'Derived Variable','이상치 라벨링':'label'},inplace=True)\n",
    "label_62.to_csv('./label/label_62.csv',index=False)"
   ]
  },
  {
   "cell_type": "code",
   "execution_count": 26,
   "metadata": {},
   "outputs": [],
   "source": [
    "label_66 = pd.read_excel('./label/66_label.xlsx',index_col=0)\n",
    "label_66.drop(['툴코드', '개수', 'mix', '제품코드', '규격'],axis=1,inplace=True)\n",
    "label_66.rename(columns = {'파생변수':'Derived Variable','이상치 라벨링':'label'},inplace=True)\n",
    "label_66.to_csv('./label/label_66.csv',index=False)"
   ]
  }
 ],
 "metadata": {
  "kernelspec": {
   "display_name": "python11",
   "language": "python",
   "name": "python3"
  },
  "language_info": {
   "codemirror_mode": {
    "name": "ipython",
    "version": 3
   },
   "file_extension": ".py",
   "mimetype": "text/x-python",
   "name": "python",
   "nbconvert_exporter": "python",
   "pygments_lexer": "ipython3",
   "version": "3.11.4"
  }
 },
 "nbformat": 4,
 "nbformat_minor": 2
}
